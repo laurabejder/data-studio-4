{
 "cells": [
  {
   "cell_type": "markdown",
   "metadata": {},
   "source": [
    "# Data cleaning\n",
    "\n",
    "In this notebook I clean the Eurovision voting data from the Eurovision Song Contest Dataset created by [Spijkervet](https://github.com/Spijkervet/eurovision-dataset). "
   ]
  },
  {
   "cell_type": "code",
   "execution_count": 86,
   "metadata": {},
   "outputs": [],
   "source": [
    "import pandas as pd\n",
    "import numpy as np"
   ]
  },
  {
   "cell_type": "markdown",
   "metadata": {},
   "source": [
    "Load in the data"
   ]
  },
  {
   "cell_type": "code",
   "execution_count": 87,
   "metadata": {},
   "outputs": [],
   "source": [
    "df = pd.read_csv('data/votes.csv')"
   ]
  },
  {
   "cell_type": "markdown",
   "metadata": {},
   "source": [
    "To make it easier to work with the data, I add the names of all the countries"
   ]
  },
  {
   "cell_type": "code",
   "execution_count": 88,
   "metadata": {},
   "outputs": [],
   "source": [
    "# Make it easier to understand by changing the country codes to country names\n",
    "df['from_country'] = df['from_country'].replace({'at': 'Austria', 'be': 'Belgium', 'bg': 'Bulgaria', 'cy': 'Cyprus', 'cz': 'Czech Republic', 'de': 'Germany', 'dk': 'Denmark', 'ee': 'Estonia', 'gr': 'Greece', 'es': 'Spain', 'fi': 'Finland', 'fr': 'France', 'hr': 'Croatia', 'hu': 'Hungary', 'ie': 'Ireland', 'it': 'Italy', 'lt': 'Lithuania', 'lu': 'Luxembourg', 'lv': 'Latvia', 'mt': 'Malta', 'nl': 'Netherlands', 'pl': 'Poland', 'pt': 'Portugal', 'ro': 'Romania', 'se': 'Sweden', 'si': 'Slovenia', 'sk': 'Slovakia', 'gb': 'United Kingdom', 'ad': 'Andorra', 'al': 'Albania', 'am': 'Armenia', 'au': 'Australia', 'az': 'Azerbaijan', 'ba': 'Bosnia and Herz.', 'by': 'Belarus', 'ch': 'Switzerland', 'cs': 'Serbia', 'ge': 'Georgia', 'is': 'Iceland', 'li': 'Liechtenstein', 'ma': 'Morocco', 'mc': 'Monaco', 'mk': 'North Macedonia', 'md': 'Moldova', 'me': 'Montenegro', 'no': 'Norway', 'rs': 'Serbia', 'ru': 'Russia', 'sm': 'San Marino', 'tr': 'Türkiye', 'ua': 'Ukraine', 'yu': 'Yugoslavia', 'il': 'Israel'})\n",
    "\n",
    "# And do the same for to_country\n",
    "df['to_country'] = df['to_country'].replace({'at': 'Austria', 'be': 'Belgium', 'bg': 'Bulgaria', 'cy': 'Cyprus', 'cz': 'Czech Republic', 'de': 'Germany', 'dk': 'Denmark', 'ee': 'Estonia', 'gr': 'Greece', 'es': 'Spain', 'fi': 'Finland', 'fr': 'France', 'hr': 'Croatia', 'hu': 'Hungary', 'ie': 'Ireland', 'it': 'Italy', 'lt': 'Lithuania', 'lu': 'Luxembourg', 'lv': 'Latvia', 'mt': 'Malta', 'nl': 'Netherlands', 'pl': 'Poland', 'pt': 'Portugal', 'ro': 'Romania', 'se': 'Sweden', 'si': 'Slovenia', 'sk': 'Slovakia', 'gb': 'United Kingdom', 'ad': 'Andorra', 'al': 'Albania', 'am': 'Armenia', 'au': 'Australia', 'az': 'Azerbaijan', 'ba': 'Bosnia and Herz.', 'by': 'Belarus', 'ch': 'Switzerland', 'cs': 'Serbia', 'ge': 'Georgia', 'is': 'Iceland', 'li': 'Liechtenstein', 'ma': 'Morocco', 'mc': 'Monaco', 'mk': 'North Macedonia', 'md': 'Moldova', 'me': 'Montenegro', 'no': 'Norway', 'rs': 'Serbia', 'ru': 'Russia', 'sm': 'San Marino', 'tr': 'Türkiye', 'ua': 'Ukraine', 'yu': 'Yugoslavia', 'il': 'Israel'})"
   ]
  },
  {
   "cell_type": "markdown",
   "metadata": {},
   "source": [
    "I might want to look at voting patterns between neighboring counties so I had chat-GPT write me some convenient code to create a boolean variable telling me if the two countries are neighbors"
   ]
  },
  {
   "cell_type": "code",
   "execution_count": 89,
   "metadata": {},
   "outputs": [],
   "source": [
    "borders = {\n",
    "    'Norway': ['Sweden', 'Finland', 'Russia', 'Norway'],\n",
    "    'Cyprus': [],\n",
    "    'Denmark': ['Germany', 'Sweden','Norway'],\n",
    "    'Greece': ['Albania', 'North Macedonia', 'Bulgaria', 'Türkiye'],\n",
    "    'United Kingdom': ['Ireland'],\n",
    "    'Finland': ['Sweden', 'Norway', 'Russia'],\n",
    "    'Spain': ['Portugal', 'France', 'Andorra'],\n",
    "    'Ireland': ['United Kingdom'],\n",
    "    'Sweden': ['Norway', 'Finland', 'Denmark'],\n",
    "    'France': ['Belgium', 'Luxembourg', 'Germany', 'Switzerland', 'Italy', 'Spain', 'Andorra', 'Monaco'],\n",
    "    'Iceland': [],\n",
    "    'Portugal': ['Spain'],\n",
    "    'Belgium': ['Netherlands', 'Germany', 'Luxembourg', 'France'],\n",
    "    'Switzerland': ['Germany', 'Austria', 'Liechtenstein', 'Italy', 'France'],\n",
    "    'Netherlands': ['Belgium', 'Germany'],\n",
    "    'Austria': ['Germany', 'Czech Republic', 'Slovakia', 'Hungary', 'Slovenia', 'Italy', 'Switzerland', 'Liechtenstein'],\n",
    "    'Germany': ['Denmark', 'Netherlands', 'Belgium', 'Luxembourg', 'France', 'Switzerland', 'Austria', 'Czech Republic', 'Poland'],\n",
    "    'Moldova': ['Ukraine', 'Romania'],\n",
    "    'Estonia': ['Russia', 'Latvia'],\n",
    "    'Israel': ['Lebanon', 'Syria', 'Jordan', 'Palestine'],\n",
    "    'Luxembourg': ['Belgium', 'Germany', 'France'],\n",
    "    'Latvia': ['Estonia', 'Russia', 'Belarus', 'Lithuania'],\n",
    "    'Croatia': ['Slovenia', 'Hungary', 'Serbia', 'Bosnia and Herzegovina', 'Montenegro'],\n",
    "    'Belarus': ['Russia', 'Latvia', 'Lithuania', 'Poland', 'Ukraine'],\n",
    "    'Slovenia': ['Italy', 'Austria', 'Hungary', 'Croatia'],\n",
    "    'Romania': ['Ukraine', 'Moldova', 'Hungary', 'Serbia', 'Bulgaria'],\n",
    "    'North Macedonia': ['Serbia', 'Kosovo', 'Albania', 'Greece', 'Bulgaria'],\n",
    "    'Malta': [],\n",
    "    'Türkiye': ['Greece', 'Bulgaria', 'Georgia', 'Armenia', 'Iran', 'Iraq', 'Syria'],\n",
    "    'Albania': ['Montenegro', 'Kosovo', 'North Macedonia', 'Greece'],\n",
    "    'Bosnia and Herzegovina': ['Croatia', 'Serbia', 'Montenegro'],\n",
    "    'Italy': ['France', 'Switzerland', 'Austria', 'Slovenia', 'Vatican City', 'San Marino'],\n",
    "    'Lithuania': ['Russia', 'Belarus', 'Latvia', 'Poland'],\n",
    "    'Ukraine': ['Russia', 'Belarus', 'Poland', 'Slovakia', 'Hungary', 'Romania', 'Moldova'],\n",
    "    'Serbia': ['Hungary', 'Romania', 'Bulgaria', 'North Macedonia', 'Kosovo', 'Bosnia and Herzegovina', 'Croatia','Montenegro'],\n",
    "    'Armenia': ['Georgia', 'Azerbaijan', 'Iran', 'Türkiye'],\n",
    "    'Poland': ['Germany', 'Czech Republic', 'Slovakia', 'Ukraine', 'Belarus', 'Lithuania'],\n",
    "    'Russia': ['Norway', 'Finland', 'Estonia', 'Latvia', 'Belarus', 'Ukraine', 'Georgia', 'Azerbaijan', 'Kazakhstan', 'China', 'North Korea'],\n",
    "    'Bulgaria': ['Romania', 'Serbia', 'North Macedonia', 'Greece', 'Türkiye'],\n",
    "    'Yugoslavia': [],\n",
    "    'Montenegro': ['Croatia', 'Bosnia and Herzegovina', 'Serbia', 'Albania'],\n",
    "    'Georgia': ['Russia', 'Armenia', 'Azerbaijan', 'Türkiye'],\n",
    "    'Azerbaijan': ['Russia', 'Georgia', 'Armenia', 'Iran'],\n",
    "    'Monaco': ['France'],\n",
    "    'Hungary': ['Austria', 'Slovakia', 'Ukraine', 'Romania', 'Serbia', 'Croatia', 'Slovenia'],\n",
    "    'San Marino': ['Italy'],\n",
    "    'Andorra': ['Spain', 'France'],\n",
    "    'Czech Republic': ['Germany', 'Poland', 'Slovakia', 'Austria'],\n",
    "    'Slovakia': ['Poland', 'Czech Republic', 'Austria', 'Hungary', 'Ukraine']}"
   ]
  },
  {
   "cell_type": "code",
   "execution_count": 90,
   "metadata": {},
   "outputs": [],
   "source": [
    "# Create the neighbors dictionary\n",
    "neighbors = {}\n",
    "for key, value in borders.items():\n",
    "    for neighbor in value:\n",
    "        neighbors[frozenset([key, neighbor])] = True\n",
    "\n",
    "# Add a new column to the DataFrame\n",
    "df['neighboring'] = 0\n",
    "\n",
    "# Iterate over the rows of the DataFrame\n",
    "for i, row in df.iterrows():\n",
    "    if row['to_country'] != '':\n",
    "        if neighbors.get(frozenset([row['from_country'], row['to_country']])) or neighbors.get(frozenset([row['to_country'], row['from_country']])):\n",
    "            df.at[i, 'neighboring'] = 1"
   ]
  },
  {
   "cell_type": "markdown",
   "metadata": {},
   "source": [
    "And then get the region of the to_country and from_country. Here I use [EuroVoc's categorization](https://op.europa.eu/en/web/eu-vocabularies/concept-scheme/-/resource?uri=http://eurovoc.europa.eu/100277) maintained by the European Union. The regions are: Northern Europe, Western Europe, Southern Europe and Central and Eastern Europe. "
   ]
  },
  {
   "cell_type": "code",
   "execution_count": 91,
   "metadata": {},
   "outputs": [],
   "source": [
    "# Create the regions dictionary\n",
    "eurovoc_regions = {\n",
    "    'Northern Europe': ['Denmark', 'Estonia', 'Finland', 'Iceland', 'Latvia', 'Lithuania', 'Norway', 'Sweden'],\n",
    "    'Western Europe': ['Andorra', 'Austria', 'Belgium', 'France', 'Germany', 'Ireland', 'Liechtenstein', 'Luxembourg', 'Monaco', 'Netherlands', 'Switzerland', 'United Kingdom'],\n",
    "    'Southern Europe': ['Cyprus', 'Greece', 'Holy See', 'Italy', 'Malta', 'Portugal', 'San Marino', 'Spain', 'Türkiye'],\n",
    "    'Central and Eastern Europe': ['Albania', 'Armenia', 'Azerbaijan', 'Belarus', 'Bosnia and Herzegovina', 'Bulgaria', 'Czech Republic', 'Croatia', 'Georgia', 'Hungary', 'Kosovo', 'Moldova', 'Montenegro', 'North Macedonia', 'Poland', 'Romania', 'Russia', 'Serbia', 'Slovenia', 'Slovakia', 'Ukraine', 'Yugoslavia'],\n",
    "    'Non-European': ['Morocco', 'Israel', 'Australia']\n",
    "}\n",
    "\n",
    "# Map each country to its region\n",
    "df['from_country_region'] = df['from_country'].map({country: region for region, countries in eurovoc_regions.items() for country in countries})\n",
    "\n",
    "# Map each country to its region\n",
    "df['to_country_region'] = df['to_country'].map({country: region for region, countries in eurovoc_regions.items() for country in countries})"
   ]
  },
  {
   "cell_type": "code",
   "execution_count": 92,
   "metadata": {},
   "outputs": [],
   "source": [
    "# Create a new column same_region which is 1 if from_country and to_country are the same region\n",
    "df['same_region'] = (df['from_country_region'] == df['to_country_region']).astype(int)"
   ]
  },
  {
   "cell_type": "markdown",
   "metadata": {},
   "source": [
    "#### Standardizing the votes\n",
    "Throughout the years, the voting system of the Eurovision has changed. To make the votes comparable over time, I standardize all the votes to follow the voting system currently in place. Today the votes are given on a scale from 1-8 and then 10 and 12 - 12 being the highest. \n",
    "\n",
    "|Year|Voting system|\n",
    "|:-|:-|\n",
    "|1956-1961|10-1|\n",
    "|1962|3-1|\n",
    "|1963|5-1|\n",
    "|1964-1966|5,3,1/6,3/9|\n",
    "|1967-1970|10-1|\n",
    "|1971-1973|10-2|\n",
    "|1974|10-1|\n",
    "|1975-2015|12, 10 8-1|\n",
    "|2016-2022|12, 10, 8-1 $x$ 2|\n",
    "\n",
    "\n",
    "Source: [Wikipedia](https://en.wikipedia.org/wiki/Voting_at_the_Eurovision_Song_Contest)"
   ]
  },
  {
   "cell_type": "code",
   "execution_count": 93,
   "metadata": {},
   "outputs": [],
   "source": [
    "# Because of the messiness of the data before 1967, we will only look at the data from 1967 onwards\n",
    "df = df[df['year'] > 1966]\n",
    "\n",
    "# I can't really standardize the missing 1 value in 1971-1973 but because of the low value, I include those years in the analysis and accept that it might be a bit off\n",
    "\n",
    "# If the year is higher than 2015 divide the total_points by 2\n",
    "df['total_points'] = np.where(df['year'] > 2015, df['total_points']/2, df['total_points'])\n",
    "\n",
    "# If the year is higher than 1974 and the total_points is 10 then change it to 12\n",
    "df['total_points'] = np.where((df['year'] > 1974) & (df['total_points'] == 10), 12, df['total_points'])\n",
    "\n",
    "# And if the year is lower than 1975 and the value is 9 then change it to 10\n",
    "df['total_points'] = np.where((df['year'] < 1975) & (df['total_points'] == 9), 10, df['total_points'])"
   ]
  },
  {
   "cell_type": "markdown",
   "metadata": {},
   "source": [
    "This standardization is not completely accurate but it will provide a better picture of the strenght between countries over time."
   ]
  },
  {
   "cell_type": "code",
   "execution_count": 94,
   "metadata": {},
   "outputs": [],
   "source": [
    "# Get the number of years a country has participated by counting the number of unique years for each to_country\n",
    "df['years_participated'] = df.groupby('to_country')['year'].transform('nunique')"
   ]
  },
  {
   "cell_type": "markdown",
   "metadata": {},
   "source": [
    "## Methodological choices\n",
    "- Only looking at total points scored, not points from jury or public\n",
    "- Drop rows where `to_country` is equal to `from_country` since countries can't vote for themselves."
   ]
  },
  {
   "cell_type": "code",
   "execution_count": 95,
   "metadata": {},
   "outputs": [],
   "source": [
    "df = df[df['from_country'] != df['to_country']]"
   ]
  },
  {
   "cell_type": "markdown",
   "metadata": {},
   "source": [
    "As both the voting system and the countries that are participating in Eurovision has changed dramatically over the years, I decide to only analyse the votes from the 21st century. If you want to look further back, comment out the next line of code."
   ]
  },
  {
   "cell_type": "code",
   "execution_count": 96,
   "metadata": {},
   "outputs": [],
   "source": [
    "# Drop rows where year is below 2000\n",
    "df = df[df['year'] > 1999]"
   ]
  },
  {
   "cell_type": "code",
   "execution_count": 97,
   "metadata": {},
   "outputs": [],
   "source": [
    "df.to_csv(\"data/data_cleaned.csv\", index=False)"
   ]
  },
  {
   "cell_type": "code",
   "execution_count": 98,
   "metadata": {},
   "outputs": [],
   "source": [
    "# Create a new dataframe with each unique country in from_country and year\n",
    "df2 = df[['from_country', 'year']].drop_duplicates()\n",
    "df2.to_csv('data/participants.csv')"
   ]
  },
  {
   "cell_type": "code",
   "execution_count": 99,
   "metadata": {},
   "outputs": [],
   "source": [
    "# Find the number of countries in from_country each year\n",
    "df['contestants'] = df.groupby('year')['from_country'].transform('nunique')\n",
    "\n",
    "# Get a dataframe only with the year and contenstants columns\n",
    "df_contestants = df[['year', 'contestants']].drop_duplicates()\n",
    "df_contestants.to_csv('data/contestants.csv', index=False)"
   ]
  },
  {
   "cell_type": "code",
   "execution_count": 100,
   "metadata": {},
   "outputs": [],
   "source": [
    "# Create a list nodes with all the unique countries in from_country and to_country\n",
    "nodes = list(set(df['from_country'].unique().tolist() + df['to_country'].unique().tolist()))\n",
    "\n",
    "# Make nodes into a dataframe\n",
    "nodes = pd.DataFrame(nodes, columns=['country'])\n",
    "\n",
    "# And save it to a csv file called nodes.csv\n",
    "nodes.to_csv('data/nodes.csv', index=False)"
   ]
  },
  {
   "cell_type": "markdown",
   "metadata": {},
   "source": [
    "Some years, the data includes both the tele votes and the jury votes which makes the total votes seem much higher. Also, some years a country makes it to the final making them appear twice in the data. The 'Big Five' (UK, France, Germnay, Italy and Spain) and the host country (the winner of last year) are also given a guaranteed spot in the final, so they only have points from the final. \n",
    "\n",
    "To make up for this and make this points more comparable, I group the data by year and countries and get the sum and mean of the points. In some instances this will give some uneven points (with decimals) but I think this is a fair way to make the points comparable."
   ]
  },
  {
   "cell_type": "code",
   "execution_count": 101,
   "metadata": {},
   "outputs": [
    {
     "data": {
      "text/html": [
       "<div>\n",
       "<style scoped>\n",
       "    .dataframe tbody tr th:only-of-type {\n",
       "        vertical-align: middle;\n",
       "    }\n",
       "\n",
       "    .dataframe tbody tr th {\n",
       "        vertical-align: top;\n",
       "    }\n",
       "\n",
       "    .dataframe thead th {\n",
       "        text-align: right;\n",
       "    }\n",
       "</style>\n",
       "<table border=\"1\" class=\"dataframe\">\n",
       "  <thead>\n",
       "    <tr style=\"text-align: right;\">\n",
       "      <th></th>\n",
       "      <th>year</th>\n",
       "      <th>from_country</th>\n",
       "      <th>to_country</th>\n",
       "      <th>neighboring</th>\n",
       "      <th>from_country_region</th>\n",
       "      <th>to_country_region</th>\n",
       "      <th>same_region</th>\n",
       "      <th>sum</th>\n",
       "      <th>mean</th>\n",
       "      <th>count</th>\n",
       "    </tr>\n",
       "  </thead>\n",
       "  <tbody>\n",
       "    <tr>\n",
       "      <th>0</th>\n",
       "      <td>2000</td>\n",
       "      <td>Austria</td>\n",
       "      <td>Belgium</td>\n",
       "      <td>0</td>\n",
       "      <td>Western Europe</td>\n",
       "      <td>Western Europe</td>\n",
       "      <td>1</td>\n",
       "      <td>0.0</td>\n",
       "      <td>0.0</td>\n",
       "      <td>1</td>\n",
       "    </tr>\n",
       "    <tr>\n",
       "      <th>1</th>\n",
       "      <td>2000</td>\n",
       "      <td>Austria</td>\n",
       "      <td>Croatia</td>\n",
       "      <td>0</td>\n",
       "      <td>Western Europe</td>\n",
       "      <td>Central and Eastern Europe</td>\n",
       "      <td>0</td>\n",
       "      <td>6.0</td>\n",
       "      <td>6.0</td>\n",
       "      <td>1</td>\n",
       "    </tr>\n",
       "  </tbody>\n",
       "</table>\n",
       "</div>"
      ],
      "text/plain": [
       "   year from_country to_country  neighboring from_country_region  \\\n",
       "0  2000      Austria    Belgium            0      Western Europe   \n",
       "1  2000      Austria    Croatia            0      Western Europe   \n",
       "\n",
       "            to_country_region  same_region  sum  mean  count  \n",
       "0              Western Europe            1  0.0   0.0      1  \n",
       "1  Central and Eastern Europe            0  6.0   6.0      1  "
      ]
     },
     "execution_count": 101,
     "metadata": {},
     "output_type": "execute_result"
    }
   ],
   "source": [
    "data = df.groupby(['year', 'from_country', 'to_country','neighboring','from_country_region', 'to_country_region','same_region'])['total_points'].agg(['sum','mean','count']).reset_index()\n",
    "\n",
    "data.head(2)"
   ]
  },
  {
   "cell_type": "code",
   "execution_count": 102,
   "metadata": {},
   "outputs": [],
   "source": [
    "# Group standardized by 'from_country', 'to_country','neighboring','from_country_region', 'to_country_region','same_region' and calculate the mean of the sum, mean and count columns\n",
    "all_data = data.groupby(['from_country', 'to_country','neighboring','from_country_region', 'to_country_region','same_region'])['mean'].agg(['mean','count']).reset_index()\n",
    "\n",
    "# Drop the row if count is less than 5\n",
    "all_data = all_data[all_data['count'] > 2]\n",
    "\n",
    "# Drop all the rows where from_country is Yugoslavia\n",
    "all_data = all_data[all_data['from_country'] != 'Yugoslavia']\n",
    "\n",
    "# Drop all the rows where to_country is Yugoslavia\n",
    "all_data = all_data[all_data['to_country'] != 'Yugoslavia']"
   ]
  },
  {
   "cell_type": "code",
   "execution_count": 103,
   "metadata": {},
   "outputs": [],
   "source": [
    "all_data.to_csv('data/all_data.csv', index=False)"
   ]
  },
  {
   "cell_type": "markdown",
   "metadata": {},
   "source": [
    "The nodes and edges below can be used to make network graphs of the voting data."
   ]
  },
  {
   "cell_type": "code",
   "execution_count": 104,
   "metadata": {},
   "outputs": [],
   "source": [
    "# Create the edges\n",
    "edges = []\n",
    "for i, row in all_data.iterrows():\n",
    "    edges.append((row['from_country'], row['to_country'], row['mean']))"
   ]
  },
  {
   "cell_type": "code",
   "execution_count": 105,
   "metadata": {},
   "outputs": [],
   "source": [
    "# Make edges a DataFrame\n",
    "edges_df = pd.DataFrame(edges, columns=['from', 'to', 'value'])\n",
    "\n",
    "# and save it to a csv file called edges.csv\n",
    "edges_df.to_csv('data/edges.csv', index=False)"
   ]
  },
  {
   "cell_type": "code",
   "execution_count": 106,
   "metadata": {},
   "outputs": [],
   "source": [
    "nodes = all_data['from_country'].unique()\n",
    "nodes_df = pd.DataFrame (nodes, columns = ['countries'])"
   ]
  }
 ],
 "metadata": {
  "kernelspec": {
   "display_name": "Python 3.11.0rc2 64-bit ('3.11.0rc2')",
   "language": "python",
   "name": "python3"
  },
  "language_info": {
   "codemirror_mode": {
    "name": "ipython",
    "version": 3
   },
   "file_extension": ".py",
   "mimetype": "text/x-python",
   "name": "python",
   "nbconvert_exporter": "python",
   "pygments_lexer": "ipython3",
   "version": "3.11.0rc2"
  },
  "orig_nbformat": 4,
  "vscode": {
   "interpreter": {
    "hash": "fa07e5dff76123542c28abca75c0e47ea742948dbeeb360ccfbd2a5c7c277f8b"
   }
  }
 },
 "nbformat": 4,
 "nbformat_minor": 2
}
